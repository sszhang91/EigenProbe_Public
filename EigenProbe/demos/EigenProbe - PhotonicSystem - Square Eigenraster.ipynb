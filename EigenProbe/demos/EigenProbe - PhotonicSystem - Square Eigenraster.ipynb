{
 "cells": [
  {
   "cell_type": "code",
   "execution_count": 1,
   "metadata": {},
   "outputs": [
    {
     "name": "stderr",
     "output_type": "stream",
     "text": [
      "/Users/alexandersmcleod/tools/python/common/plotting.py:56: MatplotlibDeprecationWarning: Passing raw data via parameters data and lut to register_cmap() is deprecated since 3.3 and will become an error two minor releases later. Instead use: register_cmap(cmap=LinearSegmentedColormap(name, data, lut))\n",
      "  pyplot.register_cmap(name='BWR', data=cdict)\n",
      "/Users/alexandersmcleod/tools/python/common/plotting.py:78: MatplotlibDeprecationWarning: Passing raw data via parameters data and lut to register_cmap() is deprecated since 3.3 and will become an error two minor releases later. Instead use: register_cmap(cmap=LinearSegmentedColormap(name, data, lut))\n",
      "  pyplot.register_cmap(name='BWR2', data=cdict)\n",
      "/Users/alexandersmcleod/tools/python/common/plotting.py:100: MatplotlibDeprecationWarning: Passing raw data via parameters data and lut to register_cmap() is deprecated since 3.3 and will become an error two minor releases later. Instead use: register_cmap(cmap=LinearSegmentedColormap(name, data, lut))\n",
      "  pyplot.register_cmap(name='BWR2_r', data=cdict)\n",
      "/Users/alexandersmcleod/tools/python/common/plotting.py:117: MatplotlibDeprecationWarning: Passing raw data via parameters data and lut to register_cmap() is deprecated since 3.3 and will become an error two minor releases later. Instead use: register_cmap(cmap=LinearSegmentedColormap(name, data, lut))\n",
      "  pyplot.register_cmap(name=cmap_name,data=cdit)\n",
      "/Users/alexandersmcleod/tools/python/common/plotting.py:125: MatplotlibDeprecationWarning: Passing raw data via parameters data and lut to register_cmap() is deprecated since 3.3 and will become an error two minor releases later. Instead use: register_cmap(cmap=LinearSegmentedColormap(name, data, lut))\n",
      "  pyplot.register_cmap(name=cmap_name+'_r',data=cdit_r)\n"
     ]
    },
    {
     "name": "stdout",
     "output_type": "stream",
     "text": [
      "<plotting>:\n",
      "\tRegistered colormaps \"Warm\" and \"Warm_r\"...\n",
      "<plotting>:\n",
      "\tRegistered colormaps \"vanheum\" and \"vanheum_r\"...\n",
      "<plotting>:\n",
      "\tRegistered colormaps \"NT-MDT\" and \"NT-MDT_r\"...\n",
      "<plotting>:\n",
      "\tRegistered colormaps \"rainbow\" and \"rainbow_r\"...\n",
      "<plotting>:\n",
      "\tRegistered colormaps \"jingdi\" and \"jingdi_r\"...\n",
      "<plotting>:\n",
      "\tRegistered colormaps \"Halcyon\" and \"Halcyon_r\"...\n",
      "<plotting>:\n",
      "\tRegistered colormaps \"Cold\" and \"Cold_r\"...\n",
      "<plotting>:\n",
      "\tRegistered colormaps \"Sky\" and \"Sky_r\"...\n",
      "<plotting>:\n",
      "\tRegistered colormaps \"Gwyddion.net\" and \"Gwyddion.net_r\"...\n",
      "<plotting>:\n",
      "\tRegistered colormaps \"BlueRed\" and \"BlueRed_r\"...\n",
      "<plotting>:\n",
      "\tRegistered colormaps \"vanheum3\" and \"vanheum3_r\"...\n",
      "<plotting>:\n",
      "\tRegistered colormaps \"vanheum2\" and \"vanheum2_r\"...\n",
      "<material_types.TabulatedMaterialFromFile.__init__>:\n",
      "\tLoading tabulated material data from file \"Bi2Se3_epsilon.pickle\"...\n",
      "<material_types.TabulatedMaterialFromFile.__init__>:\n",
      "\tLoading tabulated material data from file \"PMMA_epsilon.pickle\"...\n",
      "<material_types.TabulatedMaterialFromFile.__init__>:\n",
      "\tLoading tabulated material data from file \"sio2_300nm_extracted_epsilon_cone_A=2a.pickle\"...\n",
      "<material_types.TabulatedMaterialFromFile.__init__>:\n",
      "\tLoading tabulated material data from file \"TaS2_eps_230K.csv\"...\n",
      "<material_types.TabulatedMaterialFromFile.__init__>:\n",
      "\tLoading tabulated material data from file \"TaS2_eps_30K.csv\"...\n",
      "<material_types.TabulatedMaterialFromFile.__init__>:\n",
      "\tLoading tabulated material data from file \"Erik_BSTS_epsilon.pickle\"...\n",
      "<material_types.TabulatedMaterialFromFile.__init__>:\n",
      "\tLoading tabulated material data from file \"VO2_295K.csv\"...\n",
      "<material_types.TabulatedMaterialFromFile.__init__>:\n",
      "\tLoading tabulated material data from file \"VO2_360K.csv\"...\n",
      "<material_types.TabulatedMaterialFromFile.__init__>:\n",
      "\tLoading tabulated material data from file \"Stewart_V2O3film_insulating.csv\"...\n",
      "<material_types.TabulatedMaterialFromFile.__init__>:\n",
      "\tLoading tabulated material data from file \"Stewart_V2O3film_metallic.csv\"...\n"
     ]
    }
   ],
   "source": [
    "import copy\n",
    "import numpy as np\n",
    "from matplotlib import pyplot as plt\n",
    "from common.baseclasses import AWA\n",
    "from importlib import reload\n",
    "from common import numerical_recipes as numrec\n",
    "from common import plotting\n",
    "from common.numerical_recipes import QuickConvolver,smooth\n",
    "import EigenProbe as EP\n",
    "from NearFieldOptics import Materials as M\n",
    "\n",
    "from ipywidgets import interact, interactive, fixed, interact_manual\n",
    "import ipywidgets as widgets\n",
    "\n",
    "import warnings\n",
    "warnings.filterwarnings('ignore')"
   ]
  },
  {
   "cell_type": "markdown",
   "metadata": {},
   "source": [
    "# Setup"
   ]
  },
  {
   "cell_type": "code",
   "execution_count": 2,
   "metadata": {},
   "outputs": [
    {
     "name": "stdout",
     "output_type": "stream",
     "text": [
      "Generating eigenpairs on x,y=[-100.0:+100.0:300],[-100.0:+100.0:300]\n",
      "\tTime elapsed: 1.5918281078338623\n",
      "Generating eigenpairs on x,y=[-100.0:+100.0:300],[-100.0:+100.0:300]\n",
      "\tTime elapsed: 1.2142281532287598\n"
     ]
    }
   ],
   "source": [
    "#--- Imports\n",
    "from EigenProbe import tip_modeling as TM\n",
    "\n",
    "#--- Build rectangular laplacian with edge for graphene (particle-in-box planewaves)\n",
    "N=300\n",
    "L=200 #We will deal in units of tip radius, so this will be a 6 micron (or so) view\n",
    "Nq=1000\n",
    "\n",
    "#--- Dielectric susbstrate with plane wave basis\n",
    "Substrate=EP.SubstrateDielectric(beta=0.5,Lx=L,Nx=N,Ly=L,Nqmax=Nq,include_const=False)\n",
    "\n",
    "#--- Build ribbon graphene\n",
    "Rx=0.6*L\n",
    "Ry=0.6*L\n",
    "Graphene=EP.S.SpectralLaplacian_rect(Lx=L,Nx=N,Ly=L,Nqmax=Nq,Rx=Rx,Ry=Ry)"
   ]
  },
  {
   "cell_type": "markdown",
   "metadata": {},
   "source": [
    "## Photonic System"
   ]
  },
  {
   "cell_type": "code",
   "execution_count": 3,
   "metadata": {},
   "outputs": [
    {
     "name": "stdout",
     "output_type": "stream",
     "text": [
      "Constructing augmented basis with 2D materials...\n",
      "Finding augmented basis by QR decomposition...\n",
      "\tRemoved 0 redundant vectors.\n",
      "\tTime elapsed: 21.33012104034424\n",
      "Building Laplacian operator in augmented basis...\n",
      "Building 1427x928 inner product matrix...\n",
      "\tTime elapsed: 1.2950117588043213\n",
      "Building 1427x499 inner product matrix...\n",
      "\tTime elapsed: 0.9069371223449707\n",
      "Diagonalizing new Hermitian operator of size (1427, 1427)...\n",
      "\tTime elapsed: 5.263413906097412\n",
      "\tTime elapsed: 10.365278005599976\n",
      "Filtered 244 eigenpairs.\n",
      "Filtered 0 eigenpairs.\n",
      "Size of composite laplacian: 1184\n",
      "Projecting operator 1 onto basis...\n",
      "Building 1184x928 inner product matrix...\n",
      "\tTime elapsed: 1.0803751945495605\n",
      "Projecting operator 3 onto basis...\n",
      "Building 1184x1184 inner product matrix...\n",
      "\tTime elapsed: 1.3328471183776855\n",
      "Projecting operator 4 onto basis...\n",
      "Building 1184x499 inner product matrix...\n",
      "\tTime elapsed: 0.7823209762573242\n"
     ]
    }
   ],
   "source": [
    "Q=20\n",
    "PS=EP.Photonic2DSystem(Substrate,(Graphene,),\n",
    "                         beta_substrate=0.5,lambdap=20,sigmas2D=[1-1j/Q],\n",
    "                       PML=None,\n",
    "                       PML_amplitude=1,\\\n",
    "                       basis=None)\n",
    "                         #Nbasis=Nq,qmin=2*np.pi/L)"
   ]
  },
  {
   "cell_type": "code",
   "execution_count": 4,
   "metadata": {},
   "outputs": [],
   "source": [
    "X,Y=PS.XY\n",
    "x,y=PS.xy\n",
    "dx=np.diff(PS.xy[0])[0]"
   ]
  },
  {
   "cell_type": "markdown",
   "metadata": {},
   "source": [
    "## Tune the PhotonicSystem: substrate reflectivity and 2D material Q-factor"
   ]
  },
  {
   "cell_type": "code",
   "execution_count": 5,
   "metadata": {},
   "outputs": [],
   "source": [
    "Q=2\n",
    "PS.set_Beta_substrate(np.complex(M.SiO2_300nm.reflection_p(900,1/30e-7)))\n",
    "PS.set_Sigma2D(0,1-1j/Q)"
   ]
  },
  {
   "cell_type": "markdown",
   "metadata": {},
   "source": [
    "## Define excitation & build `EigenRasterer`"
   ]
  },
  {
   "cell_type": "code",
   "execution_count": null,
   "metadata": {},
   "outputs": [
    {
     "name": "stdout",
     "output_type": "stream",
     "text": [
      "Diagonalizing new non-Hermitian operator of size (1184, 1184)...\n",
      "\tTime elapsed: 2.308229923248291\n",
      "Expanding right and left eigenmodes...\n",
      "\tTime elapsed: 16.60395312309265\n",
      "Computing reflection intensity of 2D material eigenmodes...\n",
      "Initializing eigenrasterer...\n"
     ]
    }
   ],
   "source": [
    "DP=EP.DipoleProbe(xs=x,ys=y,tipsize=1.5) #tip size sensitively will determine magnitude of plasmon response\n",
    "\n",
    "#--- Build Rasterer that pairs this excitation field with a Photonic2DSystem\n",
    "excitation=DP(0,0) #Always get excitation field centered at the origin, which was `EigenRasterer` expects\n",
    "Rasterer=EP.EigenRasterer(PS=PS,excitation=excitation)\n",
    "\n",
    "eigenmodes2D=PS.get_eigenmodes2D(recompute=False) #This was already computed automatically by rasterer"
   ]
  },
  {
   "cell_type": "markdown",
   "metadata": {},
   "source": [
    "# Raster scan for $\\lambda_P$=Rx/2"
   ]
  },
  {
   "cell_type": "code",
   "execution_count": null,
   "metadata": {},
   "outputs": [],
   "source": [
    "#Select a plasmon wavelength\n",
    "WL_scr1=Rx/2\n",
    "beta0=np.complex(M.SiO2_300nm.reflection_p(900,1/30e-7))\n",
    "WL1=WL_scr1/(1-beta0.real) #to give us desired screened wavelength, we have to modify the unscreened wavelength\n",
    "\n",
    "PS.set_LambdaP(WL1)"
   ]
  },
  {
   "cell_type": "markdown",
   "metadata": {},
   "source": [
    "## Examine and predict eigenmodes' \"reflectivity\""
   ]
  },
  {
   "cell_type": "code",
   "execution_count": null,
   "metadata": {},
   "outputs": [],
   "source": [
    "# --- Reflection coefficient can be computed symbolically at least for this type of Photonic2DSystem\n",
    "Rs1=PS.R2D()\n",
    "np.abs(Rs1).plot(color='r',label='Abs(R)')\n",
    "np.imag(Rs1).plot(color='b',label='Im(R)')\n",
    "\n",
    "plt.axvline(2*np.pi/WL_scr1,color='k',ls='--',label='intended $q_{P,scr}$')\n",
    "\n",
    "plt.ylabel('Reflectivity')\n",
    "plt.legend()"
   ]
  },
  {
   "cell_type": "markdown",
   "metadata": {},
   "source": [
    "## Perform raster scan"
   ]
  },
  {
   "cell_type": "code",
   "execution_count": null,
   "metadata": {},
   "outputs": [],
   "source": [
    "# The arguments are optional, other method is to provide photonic system as `PS=PS`,\n",
    "#   and eigenmodes will be automatically (re)computed\n",
    "raster1=Rasterer()"
   ]
  },
  {
   "cell_type": "code",
   "execution_count": null,
   "metadata": {},
   "outputs": [],
   "source": [
    "np.imag(raster1).plot(cmap='bwr')\n",
    "plt.gca().set_aspect('equal')\n",
    "plt.clim(0.15,.42)\n",
    "plt.title('$\\lambda_p=%1.1f$'%WL1)"
   ]
  },
  {
   "cell_type": "markdown",
   "metadata": {},
   "source": [
    "# Raster scan for $\\lambda_P$=2 Rx/3"
   ]
  },
  {
   "cell_type": "markdown",
   "metadata": {},
   "source": [
    "## Re-tune PhotonicSystem"
   ]
  },
  {
   "cell_type": "code",
   "execution_count": null,
   "metadata": {},
   "outputs": [],
   "source": [
    "#Select a plasmon wavelength\n",
    "WL_scr2=2*Rx/3\n",
    "beta0=np.complex(M.SiO2_300nm.reflection_p(900,1/30e-7))\n",
    "WL2=WL_scr2/(1-beta0.real)\n",
    "\n",
    "PS.set_LambdaP(WL2)"
   ]
  },
  {
   "cell_type": "code",
   "execution_count": null,
   "metadata": {},
   "outputs": [],
   "source": [
    "# --- Reflection coefficient can be computed symbolically at least for this type of Photonic2DSystem\n",
    "Rs2=PS.R2D()\n",
    "np.abs(Rs2).plot(color='r',label='Abs(R)')\n",
    "np.imag(Rs2).plot(color='b',label='Im(R)')\n",
    "\n",
    "plt.axvline(2*np.pi/WL_scr2,color='k',ls='--',label='intended $q_{P,scr}$')\n",
    "\n",
    "plt.ylabel('Reflectivity')\n",
    "plt.legend()"
   ]
  },
  {
   "cell_type": "markdown",
   "metadata": {},
   "source": [
    "## Perform raster scan"
   ]
  },
  {
   "cell_type": "code",
   "execution_count": null,
   "metadata": {
    "scrolled": true
   },
   "outputs": [],
   "source": [
    "# Rasterer will automatically ask PhotonicSystem for its new eigenreflectances\n",
    "# and just re-weight the ingredients to the full raster image \n",
    "raster2=Rasterer()"
   ]
  },
  {
   "cell_type": "code",
   "execution_count": null,
   "metadata": {},
   "outputs": [],
   "source": [
    "np.imag(raster2).plot(cmap='bwr')\n",
    "plt.gca().set_aspect('equal')\n",
    "plt.clim(0.15,.42)\n",
    "plt.title('$\\lambda_p=%1.1f$'%WL2)"
   ]
  },
  {
   "cell_type": "markdown",
   "metadata": {},
   "source": [
    "### Compare with conventional (brute force) raster scan"
   ]
  },
  {
   "cell_type": "code",
   "execution_count": null,
   "metadata": {},
   "outputs": [],
   "source": [
    "#--- This does nothing clever, just projects excitation at every pixel into the PhotonicSystem\n",
    "# basis and multiplies with reflection matrix, and applies the formula for generalized reflection coeff\n",
    "# Calculation goes automatically in chunks to avoid projecting all the excitations at once (which would kill memory)\n",
    "raster3=DP.raster_probe(PS,stride=4)"
   ]
  },
  {
   "cell_type": "code",
   "execution_count": null,
   "metadata": {},
   "outputs": [],
   "source": [
    "np.imag(raster3).plot(cmap='bwr')\n",
    "plt.gca().set_aspect('equal')\n",
    "plt.clim(0.15,.42)\n",
    "plt.title('$\\lambda_p=%1.1f$'%WL2)"
   ]
  }
 ],
 "metadata": {
  "kernelspec": {
   "display_name": "Python 3",
   "language": "python",
   "name": "python3"
  },
  "language_info": {
   "codemirror_mode": {
    "name": "ipython",
    "version": 3
   },
   "file_extension": ".py",
   "mimetype": "text/x-python",
   "name": "python",
   "nbconvert_exporter": "python",
   "pygments_lexer": "ipython3",
   "version": "3.7.8"
  },
  "toc": {
   "base_numbering": 1,
   "nav_menu": {},
   "number_sections": true,
   "sideBar": true,
   "skip_h1_title": false,
   "title_cell": "Table of Contents",
   "title_sidebar": "Contents",
   "toc_cell": false,
   "toc_position": {
    "height": "calc(100% - 180px)",
    "left": "10px",
    "top": "150px",
    "width": "352.70220947265625px"
   },
   "toc_section_display": true,
   "toc_window_display": true
  }
 },
 "nbformat": 4,
 "nbformat_minor": 4
}
